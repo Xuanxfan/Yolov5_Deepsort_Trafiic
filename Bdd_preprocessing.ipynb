{
 "cells": [
  {
   "cell_type": "markdown",
   "metadata": {},
   "source": [
    "# Convert Bdd100k labels to coco format\n"
   ]
  },
  {
   "cell_type": "markdown",
   "metadata": {},
   "source": [
    "### Bdd100k labels format"
   ]
  },
  {
   "cell_type": "markdown",
   "metadata": {},
   "source": [
    "- name: string\n",
    "- url: string\n",
    "- videoName: string (optional)\n",
    "- attributes:\n",
    "    - weather: \"rainy|snowy|clear|overcast|undefined|partly cloudy|foggy\"\n",
    "    - scene: \"tunnel|residential|parking lot|undefined|city street|gas stations|highway|\"\n",
    "    - timeofday: \"daytime|night|dawn/dusk|undefined\"\n",
    "- intrinsics\n",
    "    - focal: [x, y]\n",
    "    - center: [x, y]\n",
    "    - nearClip:\n",
    "- extrinsics\n",
    "    - location\n",
    "    - rotation\n",
    "- timestamp: int64 (epoch time ms)\n",
    "- frameIndex: int (optional, frame index in this video)\n",
    "- labels [ ]:\n",
    "    - id: int32\n",
    "    - category: string (classification)\n",
    "    - manualShape: boolean (whether the shape of the label is created or modified manually)\n",
    "    - manualAttributes: boolean (whether the attribute of the label is created or modified manually)\n",
    "    - score: float (the confidence or some other ways of measuring the quality of the label.)\n",
    "    - attributes:\n",
    "        - occluded: boolean\n",
    "        - truncated: boolean\n",
    "        - trafficLightColor: \"red|green|yellow|none\"\n",
    "        - areaType: \"direct | alternative\" (for driving area)\n",
    "        - laneDirection: \"parallel|vertical\" (for lanes)\n",
    "        - laneStyle: \"solid | dashed\" (for lanes)\n",
    "        - laneTypes: (for lanes)\n",
    "    - box2d:\n",
    "       - x1: float\n",
    "       - y1: float\n",
    "       - x2: float\n",
    "       - y2: float\n",
    "   - box3d:\n",
    "       - alpha: (observation angle if there is a 2D view)\n",
    "       - orientation: (3D orientation of the bounding box, used for 3D point cloud annotation)\n",
    "       - location: (3D point, x, y, z, center of the box)\n",
    "       - dimension: (3D point, height, width, length)\n",
    "   - poly2d: an array of objects, with the structure\n",
    "       - vertices: [][]float (list of 2-tuples [x, y])\n",
    "       - types: string (each character corresponds to the type of the vertex with the same index in vertices. ‘L’ for vertex and ‘C’ for control point of a bezier curve.\n",
    "       - closed: boolean (closed for polygon and otherwise for path)\n",
    "\n"
   ]
  },
  {
   "cell_type": "code",
   "execution_count": 2,
   "metadata": {},
   "outputs": [],
   "source": [
    "import os\n",
    "import json\n",
    "import argparse\n",
    "from tqdm import tqdm\n",
    "\n",
    "\n",
    "\n",
    "def bdd2coco_detection(id_dict, labeled_images, fn):\n",
    "\n",
    "    images = list()\n",
    "    annotations = list()\n",
    "\n",
    "    counter = 0\n",
    "    for i in tqdm(labeled_images):\n",
    "        counter += 1\n",
    "        image = dict()\n",
    "        image['file_name'] = i['name']\n",
    "        image['height'] = 720\n",
    "        image['width'] = 1280\n",
    "\n",
    "        image['id'] = counter\n",
    "\n",
    "        empty_image = True\n",
    "\n",
    "        for label in i['labels']:\n",
    "            annotation = dict()\n",
    "            #处理不同的信号灯\n",
    "            category=label['category']\n",
    "            if (category == \"traffic light\"):\n",
    "                color = label['attributes']['trafficLightColor']\n",
    "                category = \"tl_\" + color\n",
    "            if category in id_dict.keys():\n",
    "                empty_image = False\n",
    "                annotation[\"iscrowd\"] = 0\n",
    "                annotation[\"image_id\"] = image['id']\n",
    "                x1 = label['box2d']['x1']\n",
    "                y1 = label['box2d']['y1']\n",
    "                x2 = label['box2d']['x2']\n",
    "                y2 = label['box2d']['y2']\n",
    "                annotation['bbox'] = [x1, y1, x2-x1, y2-y1]\n",
    "                annotation['area'] = float((x2 - x1) * (y2 - y1))\n",
    "                annotation['category_id'] = id_dict[category]\n",
    "                annotation['ignore'] = 0\n",
    "                annotation['id'] = label['id']\n",
    "                annotation['segmentation'] = [[x1, y1, x1, y2, x2, y2, x2, y1]]\n",
    "                annotations.append(annotation)\n",
    "\n",
    "        if empty_image:\n",
    "            continue\n",
    "\n",
    "        images.append(image)\n",
    "\n",
    "    attr_dict[\"images\"] = images\n",
    "    attr_dict[\"annotations\"] = annotations\n",
    "    attr_dict[\"type\"] = \"instances\"\n",
    "\n",
    "    print('saving...')\n",
    "    json_string = json.dumps(attr_dict)\n",
    "    with open(fn, \"w\") as file:\n",
    "        file.write(json_string)\n"
   ]
  },
  {
   "cell_type": "code",
   "execution_count": 6,
   "outputs": [
    {
     "name": "stdout",
     "output_type": "stream",
     "text": [
      "Loading training set...\n",
      "Converting training set...\n"
     ]
    },
    {
     "name": "stderr",
     "output_type": "stream",
     "text": [
      "100%|██████████| 69863/69863 [00:09<00:00, 7384.22it/s] \n"
     ]
    },
    {
     "name": "stdout",
     "output_type": "stream",
     "text": [
      "saving...\n",
      "Loading validation set...\n",
      "Converting validation set...\n"
     ]
    },
    {
     "name": "stderr",
     "output_type": "stream",
     "text": [
      "100%|██████████| 10000/10000 [00:00<00:00, 21251.52it/s]\n"
     ]
    },
    {
     "name": "stdout",
     "output_type": "stream",
     "text": [
      "saving...\n"
     ]
    }
   ],
   "source": [
    "if __name__ == '__main__':\n",
    "\n",
    "    label_dir=\"bdd100k/label\"\n",
    "    save_path=\"bdd100k/label\"\n",
    "\n",
    "    attr_dict = dict()\n",
    "    attr_dict[\"categories\"] = [\n",
    "        {\"supercategory\": \"none\", \"id\": 1, \"name\": \"person\"},\n",
    "        {\"supercategory\": \"none\", \"id\": 2, \"name\": \"rider\"},\n",
    "        {\"supercategory\": \"none\", \"id\": 3, \"name\": \"car\"},\n",
    "        {\"supercategory\": \"none\", \"id\": 4, \"name\": \"bus\"},\n",
    "        {\"supercategory\": \"none\", \"id\": 5, \"name\": \"truck\"},\n",
    "        {\"supercategory\": \"none\", \"id\": 6, \"name\": \"bike\"},\n",
    "        {\"supercategory\": \"none\", \"id\": 7, \"name\": \"motor\"},\n",
    "        {\"supercategory\": \"none\", \"id\": 8, \"name\": \"tl_green\"},\n",
    "        {\"supercategory\": \"none\", \"id\": 9, \"name\": \"tl_red\"},\n",
    "        {\"supercategory\": \"none\", \"id\": 10, \"name\": \"tl_yellow\"},\n",
    "        {\"supercategory\": \"none\", \"id\": 11, \"name\": \"tl_none\"},\n",
    "        {\"supercategory\": \"none\", \"id\": 12, \"name\": \"traffic sign\"},\n",
    "        {\"supercategory\": \"none\", \"id\": 13, \"name\": \"train\"}\n",
    "    ]\n",
    "\n",
    "    attr_id_dict = {i['name']: i['id'] for i in attr_dict['categories']}\n",
    "\n",
    "    # create BDD training set detections in COCO format\n",
    "    print('Loading training set...')\n",
    "    with open(os.path.join(label_dir,\n",
    "                           'bdd100k_labels_images_train.json')) as f:\n",
    "        train_labels = json.load(f)\n",
    "    print('Converting training set...')\n",
    "\n",
    "    out_fn = os.path.join(save_path,\n",
    "                          'bdd100k_labels_images_det_coco_train.json')\n",
    "    bdd2coco_detection(attr_id_dict, train_labels, out_fn)\n",
    "\n",
    "    print('Loading validation set...')\n",
    "    # create BDD validation set detections in COCO format\n",
    "    with open(os.path.join(label_dir,\n",
    "                           'bdd100k_labels_images_val.json')) as f:\n",
    "        val_labels = json.load(f)\n",
    "    print('Converting validation set...')\n",
    "\n",
    "    out_fn = os.path.join(save_path,\n",
    "                          'bdd100k_labels_images_det_coco_val.json')\n",
    "    bdd2coco_detection(attr_id_dict, val_labels, out_fn)"
   ],
   "metadata": {
    "collapsed": false,
    "pycharm": {
     "name": "#%%\n"
    }
   }
  },
  {
   "cell_type": "markdown",
   "metadata": {},
   "source": [
    "# Convert COCO to yolo format"
   ]
  },
  {
   "cell_type": "code",
   "execution_count": 3,
   "metadata": {},
   "outputs": [
    {
     "name": "stdout",
     "output_type": "stream",
     "text": [
      "\r\n",
      "COCO Parsing:  |████████████████████████████████████████| 100.0% (1286871/1286871)  Complete\r\n",
      "\n",
      "\r\n",
      "YOLO Generating:|████████████████████████████████████████| 100.0% (69863/69863)  Complete\r\n",
      "\n",
      "\r\n",
      "YOLO Saving:   |████████████████████████████████████████| 100.0% (69863/69863)  Complete\r\n",
      "\n"
     ]
    }
   ],
   "source": [
    "#-*-coding:utf-8-*-\n",
    "# python3 example.py --datasets COCO --img_path /home/iav/code/bdd100k_yolov5/bdd100k_images/bdd100k/images/100k/train --label labels/bdd100k_labels_images_det_coco_val.json --convert_output_path train_labels/ --img_type \".jpg\" --manipast_path ./ --cls_list_file bdd100k.names\n",
    "\n",
    "import os\n",
    "from xml.etree.ElementTree import dump\n",
    "import json\n",
    "import pprint\n",
    "\n",
    "import argparse\n",
    "\n",
    "from Format import COCO,YOLO\n",
    "\n",
    "def main(config):\n",
    "\n",
    "    if config[\"datasets\"] == \"COCO\":\n",
    "        coco = COCO()\n",
    "        yolo = YOLO(os.path.abspath(config[\"cls_list\"]))\n",
    "\n",
    "        flag, data = coco.parse(config[\"label\"])\n",
    "\n",
    "        if flag == True:\n",
    "            flag, data = yolo.generate(data)\n",
    "\n",
    "            if flag == True:\n",
    "                flag, data = yolo.save(data, config[\"output_path\"], config[\"img_path\"],\n",
    "                                        config[\"img_type\"], config[\"manipast_path\"])\n",
    "\n",
    "                if flag == False:\n",
    "                    print(\"Saving Result : {}, msg : {}\".format(flag, data))\n",
    "\n",
    "            else:\n",
    "                print(\"YOLO Generating Result : {}, msg : {}\".format(flag, data))\n",
    "\n",
    "        else:\n",
    "            print(\"COCO Parsing Result : {}, msg : {}\".format(flag, data))\n",
    "\n",
    "    else:\n",
    "        print(\"Unkwon Datasets\")\n",
    "\n",
    "if __name__ == '__main__':\n",
    "\n",
    "#     config ={\n",
    "#         \"datasets\": \"COCO\",\n",
    "#         \"img_path\": \"bdd100k/train\",\n",
    "#         \"label\": \"bdd100k/label/bdd100k_labels_images_det_coco_train.json\",\n",
    "#         \"img_type\": \".jpg\",\n",
    "#         \"manipast_path\": \"./\",\n",
    "#         \"output_path\": \"bdd100k/labels/trains/\",\n",
    "#         \"cls_list\": \"data/bdd100k.names\",\n",
    "#     }\n",
    "    config ={\n",
    "        \"datasets\": \"COCO\",\n",
    "        \"img_path\": \"bdd100k/images/train\",\n",
    "        \"label\": \"bdd100k/label/bdd100k_labels_images_det_coco_train.json\",\n",
    "        \"img_type\": \".jpg\",\n",
    "        \"manipast_path\": \"./\",\n",
    "        \"output_path\": \"bdd100k/label/trains/\",\n",
    "        \"cls_list\": \"data/bdd100k.names\",\n",
    "    }\n",
    "\n",
    "    main(config)"
   ]
  },
  {
   "cell_type": "markdown",
   "metadata": {},
   "source": [
    "# Make sure that image matches the label one-to-one"
   ]
  },
  {
   "cell_type": "code",
   "execution_count": 2,
   "metadata": {},
   "outputs": [],
   "source": [
    " import glob, os, shutil\n",
    "\n",
    "'''\n",
    "Sometimes your image data set might not match with your label data set.\n",
    "This code does the folowing\n",
    "(1) Go through your image data set\n",
    "(2) Search if the corresponding label file exist in the label data set. \n",
    "(3) If not, remove current image\n",
    "'''\n",
    "\n",
    "\n",
    "def copy_filter(label_dir,image_dir,target_dir_images,target_dir_labels):\n",
    "    img_count = 0\n",
    "    lab_count = 0\n",
    "    for image in os.listdir(image_dir):\n",
    "        if image.endswith('jpg'):\n",
    "            image_name = os.path.splitext(image)[0]\n",
    "\n",
    "            # Corresponding label file name\n",
    "            label_name = image_name + '.txt'\n",
    "            image_path = image_dir + '/' + image_name + '.jpg'\n",
    "            if os.path.isfile(label_dir + '/' + label_name) == False:\n",
    "                img_count += 1\n",
    "                #print(\" -- LEAVE IMAGE [Label file not found -- ]\")\n",
    "                \n",
    "                #print(image_path)\n",
    "#                 os.remove(image_path)\n",
    "            else:\n",
    "                target_images=target_dir_images+ '/' + image_name + '.jpg'\n",
    "                shutil.copy(image_path,target_dir_images )\n",
    "                #print(\" --COPY IMAGE \"+target_images)\n",
    "\n",
    "\n",
    "    for label in os.listdir(label_dir):\n",
    "        if label.endswith('.txt'):\n",
    "            label_name = os.path.splitext(label)[0]\n",
    "\n",
    "            # Corresponding label file name\n",
    "            image_name = label_name + '.jpg'\n",
    "            label_path = label_dir + '/' + label_name + '.txt'\n",
    "            if os.path.isfile(image_dir + '/' + image_name) == False:\n",
    "                lab_count += 1\n",
    "                #print(\" -- LEAVE LABEL [Image file not found -- ]\")\n",
    "                #print(label_path)\n",
    "#                 os.remove(label_path)\n",
    "            else:\n",
    "                target_labels=target_dir_labels+ '/' + label_name + '.txt'\n",
    "                shutil.copy(label_path,target_labels )\n",
    "                #print(\" --COPY lABELS \"+target_labels)\n",
    "    print(\"img missing {}\".format(lab_count))\n",
    "    print(\"lab missing {}\".format(img_count))"
   ]
  },
  {
   "cell_type": "code",
   "execution_count": 11,
   "metadata": {},
   "outputs": [
    {
     "name": "stderr",
     "output_type": "stream",
     "text": [
      "命令语法不正确。\n",
      "命令语法不正确。\n",
      "命令语法不正确。\n",
      "命令语法不正确。\n"
     ]
    }
   ],
   "source": [
    "!mkdir bdd100k/images/trains\n",
    "!mkdir bdd100k/labels/trains\n",
    "!mkdir bdd100k/images/valids\n",
    "!mkdir bdd100k/labels/valids"
   ]
  },
  {
   "cell_type": "code",
   "execution_count": 4,
   "metadata": {},
   "outputs": [
    {
     "name": "stdout",
     "output_type": "stream",
     "text": [
      "img missing 66891\n",
      "lab missing 4028\n"
     ]
    }
   ],
   "source": [
    "label_dir = 'bdd100k/label/trains'\n",
    "image_dir = 'bdd100k/images/train/'\n",
    "target_dir_images=\"bdd100k/done/images/trains\"\n",
    "target_dir_labels=\"bdd100k/done/labels/trains\"\n",
    "copy_filter(label_dir,image_dir,target_dir_images,target_dir_labels)"
   ]
  },
  {
   "cell_type": "code",
   "execution_count": 11,
   "metadata": {},
   "outputs": [
    {
     "name": "stdout",
     "output_type": "stream",
     "text": [
      "img missing 10000\n",
      "lab missing 1000\n"
     ]
    }
   ],
   "source": [
    "label_dir2 = 'bdd100k/label/valids'\n",
    "image_dir2 = 'bdd100k/images/val'\n",
    "target_dir_images2=\"bdd100k/done/images/valids\"\n",
    "target_dir_labels2=\"bdd100k/done/label/valids\"\n",
    "copy_filter(label_dir2,image_dir2,target_dir_images2,target_dir_labels2)"
   ]
  },
  {
   "cell_type": "code",
   "execution_count": null,
   "metadata": {},
   "outputs": [],
   "source": [
    "labels_list=glob.glob(\"bdd100k/labels/valids\"+\"/\"+\"*.txt\")\n",
    "images_list=glob.glob(\"bdd100k/images/val\"+\"/\"+\"*.jpg\")\n",
    "print(len(labels_list))\n",
    "print(len(images_list))\n",
    "\n",
    "labels_list2=glob.glob(\"bdd100k/label/trains\"+\"/\"+\"*.txt\")\n",
    "images_list2=glob.glob(\"bdd100k/images/train\"+\"/\"+\"*.jpg\")\n",
    "print(len(labels_list2))\n",
    "print(len(images_list2))"
   ]
  },
  {
   "cell_type": "code",
   "execution_count": 1,
   "metadata": {},
   "outputs": [],
   "source": [
    "# copy test_img folder\n",
    "!cp -r bdd100k_images/bdd100k/images/100k/test/ bdd100k/images/"
   ]
  },
  {
   "cell_type": "code",
   "execution_count": null,
   "metadata": {},
   "outputs": [],
   "source": []
  }
 ],
 "metadata": {
  "kernelspec": {
   "name": "pycharm-c39b9c5b",
   "language": "python",
   "display_name": "PyCharm (yolo)"
  },
  "language_info": {
   "codemirror_mode": {
    "name": "ipython",
    "version": 3
   },
   "file_extension": ".py",
   "mimetype": "text/x-python",
   "name": "python",
   "nbconvert_exporter": "python",
   "pygments_lexer": "ipython3",
   "version": "3.7.7"
  }
 },
 "nbformat": 4,
 "nbformat_minor": 4
}